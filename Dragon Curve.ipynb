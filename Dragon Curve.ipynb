{
 "cells": [
  {
   "cell_type": "markdown",
   "metadata": {
    "collapsed": true
   },
   "source": [
    "# Dragon Curve\n",
    "\n",
    "<img src=\"DragonIter12.png\" alt=\"picture of paper folded\" title=\"Title text\"  />"
   ]
  },
  {
   "cell_type": "markdown",
   "metadata": {},
   "source": [
    "I first came across the Dragon curve by watching this [Numberphile video](https://www.youtube.com/watch?v=wCyC-K_PnRY). The video explains how a dragon curve can be constructed by folding a paper. After watching the video I decided to try to figure out a recursive formula without looking at other sources and then make a small animation in java using [processing](https://processing.org/). In this notebook, I will take through the journey that I followed to find different patterns. The code is presented in python but can easily be translated into other languages.<br>\n",
    "\n"
   ]
  },
  {
   "cell_type": "markdown",
   "metadata": {},
   "source": [
    "## Folding papers\n",
    "To make the dragon curve by folding, first take a long strip of paper. Fold that paper in half, then fold it again in half and again and again... Unfold the paper and wherever there a crease make a 90 degree angle.<br>\n",
    "The picture below shows the result after 4 folds.<br>\n",
    "<img src=\"paper1.jpg\" alt=\"picture of paper folded\" title=\"Title text\"  />\n",
    "To find some pattern, each fold can be represented with 0 or 1. A 0 represents a \"valley\" when the paper is unfolded and a 1 a mountain as shown on the picture below.\n",
    "<img src=\"paper2.jpg\" alt=\"picture of paper folded\" title=\"Title text\"  />\n",
    "\n",
    "Below is a table showing the different sequences obtained for different amout of folds.\n",
    "\n",
    "|     |     |     |    |     |     |    |     |     |    |     |     |    |     |     | \n",
    "| --- | --- | --- |--- | --- | --- |--- | --- | --- |--- | --- | --- |--- | --- | --- |\n",
    "|     |     |     |    |     |     |    |  1  |     |    |     |     |    |     |     | \n",
    "|     |     |     |    |     |     | 0  |  1  | 1   |    |     |     |    |     |     | \n",
    "|     |     |     |    |  0  |  0  | 1  |  1  | 0   |  1 | 1   |     |    |     |     | \n",
    "|  0  |  0  | 1   | 0  |  0  |  1  |  1 |  1  |  0  |  0 |   1 |  1  | 0  |  1  |  1  | \n",
    "\n",
    "The number of elements in the sequence appear to grow quickly as the number of folds increase.\n",
    "\n",
    "|  Number of folds   |  Number of elements   |  \n",
    "| --- | --- | \n",
    "|   1  |   1  | \n",
    "|  2   |    3 | \n",
    "|  3   |    7 | \n",
    "|  4   |   15  | \n",
    "\n",
    "It is easy to deduce the number of elements after the $n^{th}$ iteration is $2^{n}-1$. This is not surprising as each fold doubles the number of layers. As this an exponential function, it will grow extremely quickly and this will limit the number of iterations that we will be able to make. At 20 iterations, the number of element is already over 1 million."
   ]
  },
  {
   "cell_type": "markdown",
   "metadata": {},
   "source": [
    "## A first construction - arrays, 1 and 0's\n",
    "\n",
    "When looking at the paper as it is unfolded, it can be noticed that the lastest fold, create a new crease at each end of the strip as well as between each crease made from the previous folds. The first new crease is always a 0 and then the new creases alternate.<br>\n",
    "This creates a pattern to construct the dragon curve.<br>\n",
    "If the previous sequence is 1, then the next sequence is <span style=\"color:red\">0</span>,0,<span style=\"color:red\">1</span><br>\n",
    "If the previous sequence is 0,1,1, then the next sequence is <span style=\"color:red\">0</span>,0,<span style=\"color:red\">1</span>,1,<span style=\"color:red\">0</span>,1,<span style=\"color:red\">1</span><br>\n",
    "If the previous sequence is 0,0,1,1,0,1,1, then the next sequence is <span style=\"color:red\">0</span>,0,<span style=\"color:red\">1</span>,0,<span style=\"color:red\">0</span>,1,<span style=\"color:red\">1</span>, 1,<span style=\"color:red\">0</span>,0,<span style=\"color:red\">1</span>,1,<span style=\"color:red\">0</span>,1,<span style=\"color:red\">1</span><br>\n",
    "The black numbers is the previous sequence and the red ones in between are just alternating 0's and 1's.<br><br>\n",
    "This pattern is enough to start coding a recursive formula using arrays (or lists) as we just have to insert 0's and 1's between each element in the arry."
   ]
  },
  {
   "cell_type": "code",
   "execution_count": 1,
   "metadata": {
    "collapsed": true
   },
   "outputs": [],
   "source": [
    "#importing the libraries needed\n",
    "import numpy as np\n",
    "import time\n",
    "import matplotlib.pyplot as plt\n",
    "from ipywidgets import interact, interact_manual, IntSlider, jslink, HBox, Play,FloatSlider, Layout\n",
    "\n",
    "%matplotlib inline\n",
    "import timeit\n",
    "plt.rcParams['agg.path.chunksize'] = 10000"
   ]
  },
  {
   "cell_type": "code",
   "execution_count": 2,
   "metadata": {
    "collapsed": true
   },
   "outputs": [],
   "source": [
    "def dragon_insert(iter_num):\n",
    "    #create a numpy array with one element\n",
    "    d = np.array(1)\n",
    "    for i in range(iter_num):\n",
    "        #loop over the length of d\n",
    "        for j in range(2**i):\n",
    "            #insert 0's and 1's every other element\n",
    "            #the factor of 4 is there as the array grows as elements are added\n",
    "            d = np.insert(d, 4*j, 0)\n",
    "            d = np.insert(d, 4*j+2, 1)\n",
    "    return d"
   ]
  },
  {
   "cell_type": "markdown",
   "metadata": {},
   "source": [
    "There is some symmetry in the order elements are inserted.<br>\n",
    "When a 0 is added at the first place, a 1 is added at the end.<br>\n",
    "When a 1 is inserted at the 3rd place, a 0 is inserted at the 3rd place from the end at the end.<br>\n",
    "This can be used to reduce the length of a loop by a factor of 2."
   ]
  },
  {
   "cell_type": "code",
   "execution_count": 3,
   "metadata": {
    "collapsed": true
   },
   "outputs": [],
   "source": [
    "def dragon_insert_with_sym(iter_num):\n",
    "    #create a numpy array with one element\n",
    "    d = np.array([0,1,1])\n",
    "    for i in range(iter_num):\n",
    "        #loop over the length of d\n",
    "        for j in range(int(2**(i-1))):\n",
    "            #insert 0's and 1's every other element\n",
    "            #the factor of 4 is there as the array grows as elements are added\n",
    "            d = np.insert(d, 4*j, 0)\n",
    "            d = np.insert(d, 4*j+2, 1)\n",
    "            #add one and zero to the end position\n",
    "            d = np.insert(d, -3*j-1, 1)\n",
    "            d = np.insert(d, -3*j-2, 0)\n",
    "            \n",
    "    return d"
   ]
  },
  {
   "cell_type": "code",
   "execution_count": 4,
   "metadata": {
    "scrolled": true
   },
   "outputs": [
    {
     "name": "stdout",
     "output_type": "stream",
     "text": [
      "[0 1 1]\n",
      "[0 1 1]\n",
      "[0 0 1 1 0 1 1]\n",
      "[0 0 1 0 0 1 1 1 0 0 1 1 0 1 1]\n"
     ]
    }
   ],
   "source": [
    "for i in range(4):\n",
    "    print(dragon_insert_with_sym(i))"
   ]
  },
  {
   "cell_type": "markdown",
   "metadata": {},
   "source": [
    "This seems to work fine but the problem is that the np.insert() operation is costly and the running time grows quickly."
   ]
  },
  {
   "cell_type": "code",
   "execution_count": 5,
   "metadata": {},
   "outputs": [
    {
     "name": "stdout",
     "output_type": "stream",
     "text": [
      "6.59 s ± 777 ms per loop (mean ± std. dev. of 7 runs, 1 loop each)\n",
      "8.63 s ± 3.46 s per loop (mean ± std. dev. of 7 runs, 1 loop each)\n"
     ]
    }
   ],
   "source": [
    "%timeit dragon_insert(15)\n",
    "%timeit dragon_insert_with_sym(15)"
   ]
  },
  {
   "cell_type": "markdown",
   "metadata": {},
   "source": [
    "## Deque\n",
    "\n",
    "Another way to tackle the problem could be using the Python Deque data structure.\n",
    "The method is similar to the previous one. <br>\n",
    "A deque (d)is initialized with just a 1. Then the following steps are repeated:<br>\n",
    "1) While d is not empty<br>\n",
    "2) create a temporary Deque (a)<br>\n",
    "3) Add a 0 at the end of a<br>\n",
    "4) Pop the first element of d and make it the last element of a<br>\n",
    "5) Add a 1 at the end of a<br>\n",
    "6) If d is not empty, pop the first element of d and make it the last element of a<br>\n",
    "7) Once d is empty, copy a into d<br>"
   ]
  },
  {
   "cell_type": "code",
   "execution_count": 6,
   "metadata": {
    "collapsed": true
   },
   "outputs": [],
   "source": [
    "from collections import deque\n",
    "\n",
    "def dragon_deque(iter_num):\n",
    "    #create a numpy array with one element\n",
    "    d = deque([1])\n",
    "    for i in range(iter_num):\n",
    "        #create an empty deque\n",
    "        a = deque()\n",
    "        while(d): \n",
    "            a.append(0)\n",
    "            a.append(d.popleft())\n",
    "            a.append(1)\n",
    "            if d:\n",
    "                a.append(d.popleft())\n",
    "        d = a.copy()\n",
    "    return d"
   ]
  },
  {
   "cell_type": "code",
   "execution_count": 7,
   "metadata": {},
   "outputs": [
    {
     "name": "stdout",
     "output_type": "stream",
     "text": [
      "deque([1])\n",
      "deque([0, 1, 1])\n",
      "deque([0, 0, 1, 1, 0, 1, 1])\n",
      "deque([0, 0, 1, 0, 0, 1, 1, 1, 0, 0, 1, 1, 0, 1, 1])\n"
     ]
    }
   ],
   "source": [
    "for i in range(4):\n",
    "    print(dragon_deque(i))"
   ]
  },
  {
   "cell_type": "markdown",
   "metadata": {},
   "source": [
    "This is a much more efficient algorithm as now it only takes only 20ms as opposed to 2s to generate the 15 iteration."
   ]
  },
  {
   "cell_type": "code",
   "execution_count": null,
   "metadata": {
    "collapsed": true
   },
   "outputs": [],
   "source": [
    "%timeit dragon_deque(15)"
   ]
  },
  {
   "cell_type": "code",
   "execution_count": 8,
   "metadata": {},
   "outputs": [
    {
     "data": {
      "text/plain": [
       "[<matplotlib.lines.Line2D at 0x10ca9f6a0>]"
      ]
     },
     "execution_count": 8,
     "metadata": {},
     "output_type": "execute_result"
    },
    {
     "data": {
      "image/png": "[encoded data removed]",
      "text/plain": [
       "<Figure size 432x288 with 1 Axes>"
      ]
     },
     "metadata": {},
     "output_type": "display_data"
    }
   ],
   "source": [
    "def count_ratio():\n",
    "    ratios = np.array([])\n",
    "    for i in range(1,22):\n",
    "        d = dragon_deque(i)\n",
    "        ratios = np.append(ratios, np.count_nonzero(d)/len(d)*100)\n",
    "    return ratios\n",
    "\n",
    "plt.xticks([int(i) for i in range(23)])\n",
    "plt.xlabel('Number of iterations')\n",
    "plt.ylabel('% of 1')\n",
    "plt.plot(count_ratio())"
   ]
  },
  {
   "cell_type": "markdown",
   "metadata": {},
   "source": [
    "The graph above shows that the ratios of 0's to 1's tends to 1 as the number of iterations increases."
   ]
  },
  {
   "cell_type": "code",
   "execution_count": 9,
   "metadata": {
    "scrolled": true
   },
   "outputs": [
    {
     "data": {
      "image/png": "[encoded data removed]",
      "text/plain": [
       "<Figure size 720x432 with 8 Axes>"
      ]
     },
     "metadata": {},
     "output_type": "display_data"
    }
   ],
   "source": [
    "\n",
    "fig, axs = plt.subplots(2, 4,figsize=(10,6))\n",
    "for i in range(2):\n",
    "    for j in range(4):\n",
    "        it = 8*i+2*j+1\n",
    "        d = dragon_deque(it)\n",
    "        d = np.append(d,0)\n",
    "        l = int(np.sqrt(len(d)))\n",
    "        d =np.reshape(d, (l, l))\n",
    "        axs[i, j].imshow(d,cmap='Greys',interpolation='nearest')\n",
    "        axs[i,j].axis('off') \n",
    "        axs[i,j].set_title('iter = '+str(it))\n",
    "fig.tight_layout()\n",
    "plt.show()"
   ]
  },
  {
   "cell_type": "markdown",
   "metadata": {},
   "source": [
    "The graphs above show the distribution of 0's (white) and 1's (black) for different number of iterations. The fractal pattern of the sequence can clearly be seen."
   ]
  },
  {
   "cell_type": "markdown",
   "metadata": {},
   "source": [
    "## Geometrical construction\n",
    "In order to visualize the curve, sequence of 1's and 0's need to be converted to coordinates. It will be convenient to use 1 unit as the length of each segment of the curve. The 0 in the sequence can be interpreted as a turn to the right and a 1 as turn to the left.<br>\n",
    "To draw the second iteration [0,1,1] of the curve, start with a horizontal unit length line segment between (0,0) and (1,0).<br>\n",
    "The first element of the sequence is a 0, so a turn to the left needs to be made so the coordinates of the next point is now (1,1). Next is a 1, so a turn to the right must be made, and the new point is (2,1). Finally another turn to the left is made and the last point obtained is (2,0).\n"
   ]
  },
  {
   "cell_type": "code",
   "execution_count": null,
   "metadata": {
    "collapsed": true
   },
   "outputs": [],
   "source": [
    "d = np.array([[0,0],[1,0],[1,1],[2,1],[2,0]])\n",
    "plt.plot(d[:,0],d[:,1])\n",
    "plt.axis('equal')\n",
    "plt.xticks([0,1,2])\n",
    "plt.yticks([0,1])\n",
    "plt.show()"
   ]
  },
  {
   "cell_type": "markdown",
   "metadata": {},
   "source": [
    "To translate the sequence of 0's and 1's into coordinates the current direction needs to be kept in a variable and then the rotation is applied. For example if the current direction is North and the next element in the sequence is a 0, then we need to add a point to the left (-1 unit in the x, same y) and then the new direction becomes West.<br>\n",
    "\n",
    "<b>Directions:</b><br>\n",
    "0 = East<br>\n",
    "1 = South<br>\n",
    "2 = West<br>\n",
    "3 = North<br>\n",
    "<br>\n",
    "0: turn to the left<br>\n",
    "1: turn to the right<br>"
   ]
  },
  {
   "cell_type": "code",
   "execution_count": null,
   "metadata": {
    "collapsed": true
   },
   "outputs": [],
   "source": [
    "def dragon_coord(binary_seq):\n",
    "    #start with a line segment facing East\n",
    "    direction = 0\n",
    "    coor = np.array([[0,0],[1,0]])\n",
    "    #convert the array as numpy array\n",
    "    d = np.asarray(dragon_insert(binary_seq))\n",
    "    #loop throught the sequence\n",
    "    for i in range(len(d)):\n",
    "        if d[i]==0:\n",
    "            if direction == 0:\n",
    "                coor = np.append(coor, [[coor[-1][0],coor[-1][1]+1]], axis = 0)\n",
    "                direction = 3\n",
    "            \n",
    "            elif direction == 1:\n",
    "                coor = np.append(coor, [[coor[-1][0]+1,coor[-1][1]]], axis = 0)\n",
    "                direction = 0\n",
    "            \n",
    "            elif direction == 2:\n",
    "                coor = np.append(coor, [[coor[-1][0],coor[-1][1]-1]], axis = 0)\n",
    "                direction = 1\n",
    "            \n",
    "            elif direction == 3:\n",
    "                coor = np.append(coor, [[coor[-1][0]-1,coor[-1][1]]], axis = 0)\n",
    "                direction = 2\n",
    "        else:\n",
    "            if direction == 0:\n",
    "                coor = np.append(coor, [[coor[-1][0],coor[-1][1]-1]], axis = 0)\n",
    "                direction = 1\n",
    "            \n",
    "            elif direction == 1:\n",
    "                coor = np.append(coor, [[coor[-1][0]-1,coor[-1][1]]], axis = 0)\n",
    "                direction = 2\n",
    "            \n",
    "            elif direction == 2:\n",
    "                coor = np.append(coor, [[coor[-1][0],coor[-1][1]+1]], axis = 0)\n",
    "                direction = 3\n",
    "            \n",
    "            elif direction == 3:\n",
    "                coor = np.append(coor, [[coor[-1][0]+1,coor[-1][1]]], axis = 0)\n",
    "                direction = 0\n",
    "        \n",
    "    return coor"
   ]
  },
  {
   "cell_type": "code",
   "execution_count": null,
   "metadata": {
    "collapsed": true
   },
   "outputs": [],
   "source": [
    "coor = dragon_coord(7)\n",
    "plt.plot(coor[:,0],coor[:,1])\n",
    "plt.axis('equal')\n",
    "plt.show()"
   ]
  },
  {
   "cell_type": "code",
   "execution_count": null,
   "metadata": {
    "collapsed": true
   },
   "outputs": [],
   "source": [
    "%timeit dragon_coord(15)"
   ]
  },
  {
   "cell_type": "markdown",
   "metadata": {},
   "source": [
    "Again this is rather slow as we need to through the full array one more time after generating it to transform it into coordinates.<br>\n",
    "In the next section we will see how both can be done in one step."
   ]
  },
  {
   "cell_type": "markdown",
   "metadata": {},
   "source": [
    "## Rotation and matrices\n",
    "Yet another way to draw a dragon curve is to use rotation.<br>\n",
    "Starting from a line segment. Rotate the line segment by 90 degrees about the end point.\n",
    "Apply more rotation for the full shape about the end point and the dragon curve will be generated.<br>\n",
    "To do this we can use the rotation matrix:<br>\n",
    "<center>$\\begin{bmatrix}\n",
    "    cos(\\theta)       & sin(\\theta)  \\\\\n",
    "    -sin(\\theta)      & cos(\\theta)  \\\\\n",
    "\\end{bmatrix}$</center><br><br>\n",
    "\n",
    "Here are the steps required:<br>\n",
    "Make a copy of the array.<br>\n",
    "A transformation needs to be made to all the points so that the last point in the array becomes the origin. This can be done by subtracting the coordinates of the last point to all the points in the array.<br>\n",
    "Then each of the points need to be multiplied by the rotation matrix.<br>\n",
    "Transform back to the origin by adding the coordinates of the last point to all the points in the array.<br>\n",
    "Reverse the array and add the points to the original array.<br>\n",
    "\n"
   ]
  },
  {
   "cell_type": "code",
   "execution_count": 4,
   "metadata": {
    "collapsed": true
   },
   "outputs": [],
   "source": [
    "def dragon_rot(x,theta=np.pi/2):\n",
    "    d = np.array([[0,0],[1,0]])\n",
    "    #rotation matrix\n",
    "    b = np.array([[np.cos(theta),np.sin(theta)],[-np.sin(theta),np.cos(theta)]])\n",
    "    for i in range(x):\n",
    "        trans_d = d-d[-1]\n",
    "        temp_d = (d[-1]+np.array([np.matmul(b,i) for i in trans_d]))[:-1]\n",
    "        d = np.concatenate((d, np.flip(temp_d,0)), axis=0)\n",
    "    return d"
   ]
  },
  {
   "cell_type": "code",
   "execution_count": 76,
   "metadata": {},
   "outputs": [
    {
     "name": "stdout",
     "output_type": "stream",
     "text": [
      "66.7 ms ± 4.35 ms per loop (mean ± std. dev. of 7 runs, 10 loops each)\n"
     ]
    }
   ],
   "source": [
    "%timeit dragon_rot(15)"
   ]
  },
  {
   "cell_type": "markdown",
   "metadata": {},
   "source": [
    "This is a very fast way to generate the points and they can be plotted easily."
   ]
  },
  {
   "cell_type": "code",
   "execution_count": 5,
   "metadata": {
    "collapsed": true
   },
   "outputs": [],
   "source": [
    "#Function to plot the dragon curve\n",
    "def dragon_plot(num_iter, theta_deg=90):\n",
    "    '''\n",
    "    num_iter: number of iterations\n",
    "    theta: angle of folding\n",
    "    '''\n",
    "    theta_rad = np.deg2rad(theta_deg)\n",
    "    d = dragon_rot(num_iter,theta_rad)\n",
    "    fig=plt.figure(figsize=(6, 6), dpi= 100)\n",
    "    plt.plot(d[:,0],d[:,1])\n",
    "    plt.axis('equal')\n",
    "    plt.axis('off')\n",
    "    plt.style.use('dark_background')\n",
    "    #Uncomment to save the graph as pdf\n",
    "    #plt.savefig(\"dragonPDF\"+str(num_iter)+\".pdf\")\n",
    "    #plt.close()"
   ]
  },
  {
   "cell_type": "markdown",
   "metadata": {},
   "source": [
    "One good thing about using the rotation matrix is that then the angle of the fold can be changed from 90 degrees to any other angles. This can be done using the interactive graph below."
   ]
  },
  {
   "cell_type": "code",
   "execution_count": 54,
   "metadata": {},
   "outputs": [
    {
     "data": {
      "application/vnd.jupyter.widget-view+json": {
       "model_id": "0489d61b9ced466cbdfe12511b69224b",
       "version_major": 2,
       "version_minor": 0
      },
      "text/plain": [
       "interactive(children=(IntSlider(value=7, description='# iterations', layout=Layout(width='600px'), max=19), Fl…"
      ]
     },
     "metadata": {},
     "output_type": "display_data"
    }
   ],
   "source": [
    "layout = Layout(width='600px')\n",
    "slider_x = IntSlider(min=0,max=19, value=7,description='# iterations', layout = layout)\n",
    "\n",
    "\n",
    "slider_theta = FloatSlider(min=0,max=180, value=90, step = 0.01,description='Angle (deg)', layout = layout)\n",
    "interact_manual(dragon_plot, num_iter=slider_x,theta_deg=slider_theta)\n",
    "plt.show()\n"
   ]
  },
  {
   "cell_type": "markdown",
   "metadata": {},
   "source": [
    "The two graphs below have a animation bar at the bottom so that the curve can be seen beeing developed for different iterations and angles."
   ]
  },
  {
   "cell_type": "code",
   "execution_count": null,
   "metadata": {
    "collapsed": true
   },
   "outputs": [],
   "source": [
    "play_x = Play(value=0,min=0,max=15,step=1)\n",
    "slider_x = IntSlider(min=0,max=15, value=0,description='# iterations',layout = Layout(width='600px'))\n",
    "jslink((play_x, 'value'), (slider_x, 'value'))\n",
    "\n",
    "slider_theta = IntSlider(min=0,max=360, value=90,description='Angle (deg)',layout = Layout(width='600px'))\n",
    "\n",
    "\n",
    "interact(dragon_plot, num_iter=slider_x,theta_deg=slider_theta)\n",
    "HBox([play_x, slider_x])"
   ]
  },
  {
   "cell_type": "code",
   "execution_count": null,
   "metadata": {
    "collapsed": true
   },
   "outputs": [],
   "source": [
    "\n",
    "slider_x = IntSlider(min=0,max=12, value=7,description='# iterations',layout = Layout(width='600px'))\n",
    "\n",
    "play_theta = Play(value=90,min=0,max=360,step=1)\n",
    "slider_theta = IntSlider(min=0,max=360, value=90,description='Angle (deg)',layout = Layout(width='600px'))\n",
    "jslink((play_theta, 'value'), (slider_theta, 'value'))\n",
    "\n",
    "interact(dragon_plot, num_iter=slider_x,theta_deg=slider_theta)\n",
    "HBox([play_theta, slider_theta])\n"
   ]
  },
  {
   "cell_type": "markdown",
   "metadata": {
    "collapsed": true
   },
   "source": [
    "The cell below shows how an animation can be exported as a mp4 file or embedded in a jupyter notebook."
   ]
  },
  {
   "cell_type": "code",
   "execution_count": null,
   "metadata": {
    "collapsed": true
   },
   "outputs": [],
   "source": [
    "from matplotlib import animation, rc\n",
    "from IPython.display import HTML\n",
    "%matplotlib inline\n",
    "\n",
    "\n",
    "Writer = animation.writers['ffmpeg']\n",
    "writer = Writer(fps=30, metadata=dict(artist='Briag Dupont'), bitrate=8000)\n",
    "\n",
    "\n",
    "fig = plt.figure(figsize=(19.2, 10.8),dpi=100)\n",
    "ax = fig.add_subplot(111)\n",
    "line, = ax.plot([], [], '-')\n",
    "\n",
    "def init():\n",
    "    line.set_data([], [])\n",
    "    return line,\n",
    "\n",
    "ite = 5\n",
    "\n",
    "def animate(i):\n",
    "    d = dragon_rot(ite,i)\n",
    "    line.set_data(d[:,0],d[:,1])\n",
    "    ax.set_xlim(np.min(d[:,0])*1.1, np.max(d[:,0])*1.1)\n",
    "    ax.set_ylim(np.min(d[:,1])*1.1, np.max(d[:,1])*1.1)\n",
    "    plt.style.use('dark_background')\n",
    "    \n",
    "    ax.set_axis_off()\n",
    "    return line,\n",
    "\n",
    "\n",
    "\n",
    "ani = animation.FuncAnimation(fig, animate,frames=np.arange(0.001, np.pi, 0.001),interval=100, blit=True, init_func=init)\n",
    "\n",
    "ani.save('dragon'+str(ite)+'.mp4', writer=writer)\n"
   ]
  },
  {
   "cell_type": "code",
   "execution_count": null,
   "metadata": {
    "collapsed": true
   },
   "outputs": [],
   "source": [
    "#This will embed \n",
    "rc('animation', html='jshtml')\n",
    "HTML(ani.to_jshtml())"
   ]
  },
  {
   "cell_type": "markdown",
   "metadata": {
    "collapsed": true
   },
   "source": [
    "## From dragon curve to music\n"
   ]
  },
  {
   "cell_type": "code",
   "execution_count": 15,
   "metadata": {},
   "outputs": [
    {
     "data": {
      "image/png": "[encoded data removed]",
      "text/plain": [
       "<Figure size 600x600 with 1 Axes>"
      ]
     },
     "metadata": {},
     "output_type": "display_data"
    }
   ],
   "source": [
    "dragon_plot(5)"
   ]
  },
  {
   "cell_type": "code",
   "execution_count": 12,
   "metadata": {},
   "outputs": [
    {
     "name": "stdout",
     "output_type": "stream",
     "text": [
      "x Min: -5.0  and Max: 1.9999999999999998\n",
      "y Min: -5.0  and Max: 1.9999999999999998\n",
      "Number of notes:  64.0\n"
     ]
    }
   ],
   "source": [
    "iter_num = 5\n",
    "d = dragon_rot(iter_num)\n",
    "d_binary = np.array(dragon_deque(iter_num))\n",
    "print('x Min:',np.min(d[0:]),' and Max:',np.max(d[0:]))\n",
    "print('y Min:',np.min(d[1:]),' and Max:',np.max(d[1:]))\n",
    "print('Number of notes: ',(np.max(d[0:])-np.min(d[0:])+1)*(np.max(d[1:])-np.min(d[1:])+1))\n",
    "d = (d-np.min(d[0:])).astype(int)\n",
    "notes = np.arange(36,100).reshape(8,8)\n",
    "\n"
   ]
  },
  {
   "cell_type": "code",
   "execution_count": null,
   "metadata": {
    "collapsed": true
   },
   "outputs": [],
   "source": []
  },
  {
   "cell_type": "code",
   "execution_count": null,
   "metadata": {
    "collapsed": true
   },
   "outputs": [],
   "source": []
  },
  {
   "cell_type": "code",
   "execution_count": 13,
   "metadata": {
    "collapsed": true
   },
   "outputs": [],
   "source": [
    "from midiutil import MIDIFile\n",
    "track = 0\n",
    "channel = 0\n",
    "time =0 # In beats\n",
    "duration =1 # In beats\n",
    "tempo = 60 # In BPM\n",
    "volume = 100 # 0-127, as per the MIDI standard\n",
    "\n",
    "\n",
    "MyMIDI = MIDIFile(1) # One track, defaults to format 1 (tempo track # automatically created)\n",
    "MyMIDI.addTempo(track,time, tempo)\n",
    "\n",
    "for i in range( len(d)):\n",
    "    if d_binary[i] ==0:\n",
    "        duration+=1\n",
    "    else:\n",
    "        duration-=1\n",
    "    MyMIDI.addNote(track, channel, notes[d[i,0],d[i,1]], time, duration, volume) \n",
    "    time = time + 1\n",
    "\n",
    "with open(\"dragon.mid\", \"wb\") as output_file: MyMIDI.writeFile(output_file)\n"
   ]
  },
  {
   "cell_type": "code",
   "execution_count": null,
   "metadata": {
    "collapsed": true
   },
   "outputs": [],
   "source": []
  },
  {
   "cell_type": "code",
   "execution_count": null,
   "metadata": {
    "collapsed": true
   },
   "outputs": [],
   "source": []
  },
  {
   "cell_type": "markdown",
   "metadata": {},
   "source": [
    "## References"
   ]
  },
  {
   "cell_type": "code",
   "execution_count": null,
   "metadata": {
    "collapsed": true
   },
   "outputs": [],
   "source": [
    "np.array([np.matmul(b,i) for i in d])"
   ]
  },
  {
   "cell_type": "code",
   "execution_count": null,
   "metadata": {
    "collapsed": true
   },
   "outputs": [],
   "source": [
    "np.pi"
   ]
  },
  {
   "cell_type": "code",
   "execution_count": null,
   "metadata": {
    "collapsed": true
   },
   "outputs": [],
   "source": [
    "jupyter notebook --NotebookApp.iopub_data_rate_limit=10000000000"
   ]
  },
  {
   "cell_type": "code",
   "execution_count": null,
   "metadata": {
    "collapsed": true
   },
   "outputs": [],
   "source": []
  }
 ],
 "metadata": {
  "kernelspec": {
   "display_name": "Python 3",
   "language": "python",
   "name": "python3"
  },
  "language_info": {
   "codemirror_mode": {
    "name": "ipython",
    "version": 3
   },
   "file_extension": ".py",
   "mimetype": "text/x-python",
   "name": "python",
   "nbconvert_exporter": "python",
   "pygments_lexer": "ipython3",
   "version": "3.6.2"
  }
 },
 "nbformat": 4,
 "nbformat_minor": 2
}
